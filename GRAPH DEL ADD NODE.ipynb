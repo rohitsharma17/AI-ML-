{
 "cells": [
  {
   "cell_type": "code",
   "execution_count": 1,
   "metadata": {},
   "outputs": [
    {
     "name": "stdout",
     "output_type": "stream",
     "text": [
      "\n",
      " 0. Exit\n",
      " 1. Create Node\n",
      " 2. Add Edges\n",
      " 3. Delete Node\n",
      " 4. Delete Edge \n",
      "5. Print Graph\n",
      " 6.BFS\n",
      "1\n",
      "2\n",
      "Node Added !!!!!\n",
      "\n",
      " 0. Exit\n",
      " 1. Create Node\n",
      " 2. Add Edges\n",
      " 3. Delete Node\n",
      " 4. Delete Edge \n",
      "5. Print Graph\n",
      " 6.BFS\n",
      "0\n"
     ]
    }
   ],
   "source": [
    "g = {}\n",
    "n = 500\n",
    "while n!=0:\n",
    "   n = int(input(\"\\n 0. Exit\\n 1. Create Node\\n 2. Add Edges\\n 3. Delete Node\\n 4. Delete Edge \\n5. Print Graph\\n 6.BFS\\n\"))\n",
    "\n",
    "   if n == 1:\n",
    "        keys = int(input())\n",
    "        g[keys] = []\n",
    "        print(\"Node Added1\")\n",
    "\n",
    "   elif n == 2:\n",
    "       print(\"Starting Vertex : \")\n",
    "       keys = int(input())\n",
    "       print(\"Ending Vertex : \")\n",
    "       ed = int(input())\n",
    "       g[keys].append(ed)\n",
    "       print(\"Edge Added !!!!!\")\n",
    "\n",
    "   elif n == 3:\n",
    "       print(\"Delete Node : \")\n",
    "       del_node = int(input())\n",
    "       del g[del_node]\n",
    "       print(\"Node Deleted !!!!!\")\n",
    "   elif n==4:\n",
    "       del_edge = int(input(\"Enter Edge you want to delete:\"))\n",
    "       for x,y in g.items():\n",
    "            g[x].remove(del_edge)\n",
    "\n",
    "       print(\"Edge Deleted !!!!!\")\n",
    "\n",
    "   elif n == 5:\n",
    "       print(g)\n",
    "   elif n == 6:\n",
    "       visited={x:False for x in g}\n",
    "       s = int(input(\"Enter Starting Node\"))\n",
    "       queue = []\n",
    "       queue.append(s)\n",
    "\n",
    "       visited[s] = True\n",
    "       while queue:\n",
    "            s = queue.pop(0)\n",
    "            print(s, end=\" \")\n",
    "            for i in g[s]:\n",
    "                if visited[i] == False:\n",
    "                    queue.append(i)\n",
    "                    visited[i] = True"
   ]
  },
  {
   "cell_type": "code",
   "execution_count": null,
   "metadata": {},
   "outputs": [],
   "source": []
  }
 ],
 "metadata": {
  "kernelspec": {
   "display_name": "Python 3",
   "language": "python",
   "name": "python3"
  },
  "language_info": {
   "codemirror_mode": {
    "name": "ipython",
    "version": 3
   },
   "file_extension": ".py",
   "mimetype": "text/x-python",
   "name": "python",
   "nbconvert_exporter": "python",
   "pygments_lexer": "ipython3",
   "version": "3.7.0"
  }
 },
 "nbformat": 4,
 "nbformat_minor": 2
}
